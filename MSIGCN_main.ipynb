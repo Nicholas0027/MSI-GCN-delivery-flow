{
 "cells": [
  {
   "cell_type": "code",
   "execution_count": 1,
   "id": "1600d564",
   "metadata": {
    "ExecuteTime": {
     "end_time": "2024-10-20T15:56:07.570106Z",
     "start_time": "2024-10-20T15:56:06.938910Z"
    },
    "tags": []
   },
   "outputs": [],
   "source": [
    "import random\n",
    "import torch\n",
    "import torch.nn as nn\n",
    "import torch.nn.functional as F\n",
    "import dgl\n",
    "from dgl.nn import GraphConv\n",
    "from sklearn.metrics import roc_auc_score\n",
    "from sklearn.preprocessing import StandardScaler\n",
    "import networkx as nx\n",
    "import pandas as pd\n",
    "import dgl.nn as dglnn\n",
    "import dgl.function as fn\n",
    "import numpy as np\n",
    "import matplotlib.pyplot as plt"
   ]
  },
  {
   "cell_type": "markdown",
   "id": "1249a98f",
   "metadata": {
    "ExecuteTime": {
     "end_time": "2024-10-20T13:33:09.604217Z",
     "start_time": "2024-10-20T13:33:09.600216Z"
    }
   },
   "source": [
    "# Read Data (数据读取)"
   ]
  },
  {
   "cell_type": "code",
   "execution_count": 64,
   "id": "a9bca9b7",
   "metadata": {
    "ExecuteTime": {
     "end_time": "2024-10-20T15:46:22.564111Z",
     "start_time": "2024-10-20T15:46:22.134635Z"
    },
    "tags": []
   },
   "outputs": [
    {
     "data": {
      "text/html": [
       "<div>\n",
       "<style scoped>\n",
       "    .dataframe tbody tr th:only-of-type {\n",
       "        vertical-align: middle;\n",
       "    }\n",
       "\n",
       "    .dataframe tbody tr th {\n",
       "        vertical-align: top;\n",
       "    }\n",
       "\n",
       "    .dataframe thead th {\n",
       "        text-align: right;\n",
       "    }\n",
       "</style>\n",
       "<table border=\"1\" class=\"dataframe\">\n",
       "  <thead>\n",
       "    <tr style=\"text-align: right;\">\n",
       "      <th></th>\n",
       "      <th>count_work</th>\n",
       "      <th>count_live</th>\n",
       "      <th>count_shop</th>\n",
       "      <th>count_play</th>\n",
       "      <th>count_elem</th>\n",
       "      <th>pop_home</th>\n",
       "      <th>pop_work</th>\n",
       "      <th>lon</th>\n",
       "      <th>lat</th>\n",
       "    </tr>\n",
       "  </thead>\n",
       "  <tbody>\n",
       "    <tr>\n",
       "      <th>0</th>\n",
       "      <td>-0.511907</td>\n",
       "      <td>-0.641922</td>\n",
       "      <td>-0.510910</td>\n",
       "      <td>-0.530859</td>\n",
       "      <td>-0.470742</td>\n",
       "      <td>-1.003943</td>\n",
       "      <td>-1.003943</td>\n",
       "      <td>0.006036</td>\n",
       "      <td>-2.140695</td>\n",
       "    </tr>\n",
       "    <tr>\n",
       "      <th>1</th>\n",
       "      <td>-0.539804</td>\n",
       "      <td>-0.641922</td>\n",
       "      <td>-0.585997</td>\n",
       "      <td>-0.652722</td>\n",
       "      <td>-0.470742</td>\n",
       "      <td>-1.007459</td>\n",
       "      <td>-1.007459</td>\n",
       "      <td>0.072030</td>\n",
       "      <td>-2.140695</td>\n",
       "    </tr>\n",
       "    <tr>\n",
       "      <th>2</th>\n",
       "      <td>-0.484010</td>\n",
       "      <td>-0.641922</td>\n",
       "      <td>-0.454596</td>\n",
       "      <td>-0.652722</td>\n",
       "      <td>-0.470742</td>\n",
       "      <td>-0.976132</td>\n",
       "      <td>-0.976132</td>\n",
       "      <td>0.138025</td>\n",
       "      <td>-2.140695</td>\n",
       "    </tr>\n",
       "    <tr>\n",
       "      <th>3</th>\n",
       "      <td>-0.539804</td>\n",
       "      <td>-0.641922</td>\n",
       "      <td>-0.585997</td>\n",
       "      <td>-0.652722</td>\n",
       "      <td>-0.470742</td>\n",
       "      <td>-1.091849</td>\n",
       "      <td>-1.091849</td>\n",
       "      <td>0.204019</td>\n",
       "      <td>-2.140695</td>\n",
       "    </tr>\n",
       "    <tr>\n",
       "      <th>4</th>\n",
       "      <td>-0.567701</td>\n",
       "      <td>-0.369151</td>\n",
       "      <td>-0.567225</td>\n",
       "      <td>-0.530859</td>\n",
       "      <td>-0.470742</td>\n",
       "      <td>-0.954715</td>\n",
       "      <td>-0.954715</td>\n",
       "      <td>-0.059958</td>\n",
       "      <td>-2.073320</td>\n",
       "    </tr>\n",
       "  </tbody>\n",
       "</table>\n",
       "</div>"
      ],
      "text/plain": [
       "   count_work  count_live  count_shop  count_play  count_elem  pop_home  \\\n",
       "0   -0.511907   -0.641922   -0.510910   -0.530859   -0.470742 -1.003943   \n",
       "1   -0.539804   -0.641922   -0.585997   -0.652722   -0.470742 -1.007459   \n",
       "2   -0.484010   -0.641922   -0.454596   -0.652722   -0.470742 -0.976132   \n",
       "3   -0.539804   -0.641922   -0.585997   -0.652722   -0.470742 -1.091849   \n",
       "4   -0.567701   -0.369151   -0.567225   -0.530859   -0.470742 -0.954715   \n",
       "\n",
       "   pop_work       lon       lat  \n",
       "0 -1.003943  0.006036 -2.140695  \n",
       "1 -1.007459  0.072030 -2.140695  \n",
       "2 -0.976132  0.138025 -2.140695  \n",
       "3 -1.091849  0.204019 -2.140695  \n",
       "4 -0.954715 -0.059958 -2.073320  "
      ]
     },
     "execution_count": 64,
     "metadata": {},
     "output_type": "execute_result"
    }
   ],
   "source": [
    "# Load different graph files\n",
    "out_flow_edges_df = pd.read_csv('edge_data/out_flow_edges.csv')\n",
    "in_flow_edges_df = pd.read_csv('edge_data/in_flow_edges.csv')\n",
    "proximity_edges_df = pd.read_csv('edge_data/proximity_edges.csv')\n",
    "dcorr_edges_df = pd.read_csv('edge_data/dcorr_edges.csv')\n",
    "pcorr_edges_df = pd.read_csv('edge_data/pcorr_edges.csv')\n",
    "fcorr_edges_df = pd.read_csv('edge_data/fcorr_edges.csv')\n",
    "delivery_df = pd.read_csv('edge_data/delivery.csv')\n",
    "\n",
    "# Load Node Data (节点数据)\n",
    "node = pd.read_csv('node_data/Node_feats5ring_standerdised.csv')\n",
    "col_feat = node.columns[3:]\n",
    "node[col_feat].head()"
   ]
  },
  {
   "cell_type": "code",
   "execution_count": 65,
   "id": "04aeaee8",
   "metadata": {
    "ExecuteTime": {
     "end_time": "2024-10-20T15:43:47.491879Z",
     "start_time": "2024-10-20T15:43:47.473704Z"
    },
    "tags": []
   },
   "outputs": [
    {
     "data": {
      "text/html": [
       "<div>\n",
       "<style scoped>\n",
       "    .dataframe tbody tr th:only-of-type {\n",
       "        vertical-align: middle;\n",
       "    }\n",
       "\n",
       "    .dataframe tbody tr th {\n",
       "        vertical-align: top;\n",
       "    }\n",
       "\n",
       "    .dataframe thead th {\n",
       "        text-align: right;\n",
       "    }\n",
       "</style>\n",
       "<table border=\"1\" class=\"dataframe\">\n",
       "  <thead>\n",
       "    <tr style=\"text-align: right;\">\n",
       "      <th></th>\n",
       "      <th>src_id</th>\n",
       "      <th>dst_id</th>\n",
       "      <th>weight</th>\n",
       "    </tr>\n",
       "  </thead>\n",
       "  <tbody>\n",
       "    <tr>\n",
       "      <th>172</th>\n",
       "      <td>8116</td>\n",
       "      <td>7910</td>\n",
       "      <td>7.0</td>\n",
       "    </tr>\n",
       "    <tr>\n",
       "      <th>178</th>\n",
       "      <td>8116</td>\n",
       "      <td>8116</td>\n",
       "      <td>16.0</td>\n",
       "    </tr>\n",
       "    <tr>\n",
       "      <th>179</th>\n",
       "      <td>8116</td>\n",
       "      <td>8117</td>\n",
       "      <td>13.0</td>\n",
       "    </tr>\n",
       "    <tr>\n",
       "      <th>186</th>\n",
       "      <td>8116</td>\n",
       "      <td>8528</td>\n",
       "      <td>8.0</td>\n",
       "    </tr>\n",
       "    <tr>\n",
       "      <th>187</th>\n",
       "      <td>8116</td>\n",
       "      <td>8529</td>\n",
       "      <td>8.0</td>\n",
       "    </tr>\n",
       "  </tbody>\n",
       "</table>\n",
       "</div>"
      ],
      "text/plain": [
       "     src_id  dst_id  weight\n",
       "172    8116    7910     7.0\n",
       "178    8116    8116    16.0\n",
       "179    8116    8117    13.0\n",
       "186    8116    8528     8.0\n",
       "187    8116    8529     8.0"
      ]
     },
     "execution_count": 65,
     "metadata": {},
     "output_type": "execute_result"
    }
   ],
   "source": [
    "# Filter out edges with low weight (过滤出流量大于 2 的边，作为稳定流量以预测)\n",
    "\n",
    "out_flow_edges_df = out_flow_edges_df[out_flow_edges_df['weight'] > 2]\n",
    "in_flow_edges_df = in_flow_edges_df[in_flow_edges_df['weight'] > 2]\n",
    "Flow_df = out_flow_edges_df.copy()\n",
    "Flow_df.head()"
   ]
  },
  {
   "cell_type": "markdown",
   "id": "ce0b3c5e",
   "metadata": {},
   "source": [
    "# Initialize Heterogeneous Graph Data (初始化异质图数据)"
   ]
  },
  {
   "cell_type": "markdown",
   "id": "ae83e532",
   "metadata": {},
   "source": [
    "## Map Node IDs to a Consecutive Range (节点 ID 映射为连续数组)"
   ]
  },
  {
   "cell_type": "code",
   "execution_count": 66,
   "id": "b8c383d3",
   "metadata": {
    "ExecuteTime": {
     "end_time": "2024-10-20T15:46:24.336363Z",
     "start_time": "2024-10-20T15:46:24.309055Z"
    },
    "tags": []
   },
   "outputs": [
    {
     "data": {
      "text/plain": [
       "{('spatial_unit',\n",
       "  'in_flow',\n",
       "  'spatial_unit'): (tensor([ 8519,  8931,  8116,  ..., 18614, 18820, 18834]), tensor([ 9343,  9343,  8116,  ..., 18410, 18410, 18425])),\n",
       " ('spatial_unit',\n",
       "  'out_flow',\n",
       "  'spatial_unit'): (tensor([ 8116,  8116,  8116,  ..., 18410, 18410, 18410]), tensor([ 7910,  8116,  8117,  ..., 18408, 18614, 18820])),\n",
       " ('spatial_unit',\n",
       "  'proximity',\n",
       "  'spatial_unit'): (tensor([ 6873,  6873,  6873,  ..., 19035, 19035, 19036]), tensor([ 6874,  6875,  6876,  ..., 19036, 19037, 19037])),\n",
       " ('spatial_unit',\n",
       "  'dcorr',\n",
       "  'spatial_unit'): (tensor([ 8100,  8100,  8100,  ..., 18614, 18630, 18817]), tensor([ 8103,  8102,  8309,  ..., 18817, 18631, 18819])),\n",
       " ('spatial_unit',\n",
       "  'pcorr',\n",
       "  'spatial_unit'): (tensor([ 8100,  8100,  8100,  ..., 18614, 18630, 18817]), tensor([ 8103,  8102,  8309,  ..., 18817, 18631, 18819])),\n",
       " ('spatial_unit',\n",
       "  'fcorr',\n",
       "  'spatial_unit'): (tensor([ 7079,  7079,  7079,  ..., 17988, 17988, 18192]), tensor([ 7285,  7694,  7888,  ..., 18192, 18604, 18604]))}"
      ]
     },
     "execution_count": 66,
     "metadata": {},
     "output_type": "execute_result"
    }
   ],
   "source": [
    "graph_data = {}\n",
    "\n",
    "edge_types = {\n",
    "    'in_flow': in_flow_edges_df,\n",
    "    'out_flow': out_flow_edges_df,\n",
    "    'proximity': proximity_edges_df,\n",
    "    'dcorr': dcorr_edges_df,\n",
    "    'pcorr': pcorr_edges_df,\n",
    "    'fcorr': fcorr_edges_df,\n",
    "}\n",
    "\n",
    "# Construct the graph data by looping over edge types and their corresponding DataFrames\n",
    "for edge_type, edges_df in edge_types.items():\n",
    "    graph_data[('spatial_unit', edge_type, 'spatial_unit')] = (\n",
    "        torch.tensor(edges_df['src_id'].values),\n",
    "        torch.tensor(edges_df['dst_id'].values)\n",
    "    )\n",
    "graph_data"
   ]
  },
  {
   "cell_type": "code",
   "execution_count": 67,
   "id": "da266b20",
   "metadata": {
    "ExecuteTime": {
     "end_time": "2024-10-20T15:46:25.658743Z",
     "start_time": "2024-10-20T15:46:25.475393Z"
    },
    "tags": []
   },
   "outputs": [],
   "source": [
    "# Find all unique node IDs and map them to a consecutive range\n",
    "unique_ids = set()\n",
    "for (_, _, _), (src, dst) in graph_data.items():\n",
    "    unique_ids.update(src.tolist())\n",
    "    unique_ids.update(dst.tolist())\n",
    "\n",
    "id_mapping = {old_id: new_id for new_id, old_id in enumerate(unique_ids)}\n",
    "\n",
    "# Save mapping to CSV\n",
    "mapping_df = pd.DataFrame(list(id_mapping.items()), columns=['Original_ID', 'Mapped_ID'])\n",
    "mapping_df.to_csv('mapping_df_5ring.csv', index=False)\n",
    "\n",
    "# Update edges with new node IDs for consistency\n",
    "edge_dfs = [out_flow_edges_df, in_flow_edges_df, proximity_edges_df, dcorr_edges_df, pcorr_edges_df, fcorr_edges_df]\n",
    "for df in edge_dfs:\n",
    "    df['src_id'] = df['src_id'].map(id_mapping)\n",
    "    df['dst_id'] = df['dst_id'].map(id_mapping)"
   ]
  },
  {
   "cell_type": "markdown",
   "id": "8ef239e8",
   "metadata": {},
   "source": [
    "## Construct graph_data (根据映射ID后的异质边创建图数据)"
   ]
  },
  {
   "cell_type": "code",
   "execution_count": 68,
   "id": "d7ce57c5",
   "metadata": {
    "ExecuteTime": {
     "end_time": "2024-10-20T15:46:35.559972Z",
     "start_time": "2024-10-20T15:46:35.540643Z"
    },
    "tags": []
   },
   "outputs": [
    {
     "data": {
      "text/plain": [
       "{('spatial_unit',\n",
       "  'in_flow',\n",
       "  'spatial_unit'): (tensor([ 104,  280, 2742,  ...,  964, 1050, 1064]), tensor([ 460,  460, 2742,  ...,  875,  875,  890])),\n",
       " ('spatial_unit',\n",
       "  'out_flow',\n",
       "  'spatial_unit'): (tensor([2742, 2742, 2742,  ...,  875,  875,  875]), tensor([2659, 2742, 2743,  ...,  873,  964, 1050])),\n",
       " ('spatial_unit',\n",
       "  'proximity',\n",
       "  'spatial_unit'): (tensor([2302, 2302, 2302,  ..., 1137, 1137, 1138]), tensor([2303, 2304, 2305,  ..., 1138, 1139, 1139])),\n",
       " ('spatial_unit',\n",
       "  'dcorr',\n",
       "  'spatial_unit'): (tensor([2726, 2726, 2726,  ...,  964,  980, 1047]), tensor([2729, 2728,   13,  ..., 1047,  981, 1049])),\n",
       " ('spatial_unit',\n",
       "  'pcorr',\n",
       "  'spatial_unit'): (tensor([2726, 2726, 2726,  ...,  964,  980, 1047]), tensor([2729, 2728,   13,  ..., 1047,  981, 1049])),\n",
       " ('spatial_unit',\n",
       "  'fcorr',\n",
       "  'spatial_unit'): (tensor([2364, 2364, 2364,  ...,  686,  686,  774]), tensor([2429, 2567, 2637,  ...,  774,  954,  954]))}"
      ]
     },
     "execution_count": 68,
     "metadata": {},
     "output_type": "execute_result"
    }
   ],
   "source": [
    "for edge_type, edges_df in edge_types.items():\n",
    "    graph_data[('spatial_unit', edge_type, 'spatial_unit')] = (\n",
    "        torch.tensor(edges_df['src_id'].values),\n",
    "        torch.tensor(edges_df['dst_id'].values)\n",
    "    )\n",
    "graph_data"
   ]
  },
  {
   "cell_type": "markdown",
   "id": "48890fee",
   "metadata": {},
   "source": [
    "## Generate Train, Validation, and Test Masks (生成训练、验证和测试掩码)"
   ]
  },
  {
   "cell_type": "code",
   "execution_count": 69,
   "id": "568d444c",
   "metadata": {
    "ExecuteTime": {
     "end_time": "2024-10-20T15:47:32.256692Z",
     "start_time": "2024-10-20T15:47:32.242987Z"
    },
    "tags": []
   },
   "outputs": [],
   "source": [
    "def generate_masks(num_edges, train_ratio=0.7, val_ratio=0.1, test_ratio=0.2):\n",
    "    \"\"\"\n",
    "    生成三个互不交叉的训练、验证和测试掩码数组。\n",
    "    \n",
    "    参数:\n",
    "    - num_edges: 总的边数。\n",
    "    - train_ratio: 训练集所占的比例。\n",
    "    - val_ratio: 验证集所占的比例。\n",
    "    - test_ratio: 测试集所占的比例。\n",
    "    \n",
    "    返回:\n",
    "    - train_mask: 训练集的掩码。\n",
    "    - val_mask: 验证集的掩码。\n",
    "    - test_mask: 测试集的掩码。\n",
    "    \"\"\"\n",
    "    if train_ratio + val_ratio + test_ratio != 1:\n",
    "        raise ValueError(\"The sum of ratios must equal 1.\")\n",
    "    \n",
    "    # 生成一个随机的索引数组\n",
    "    indices = np.arange(num_edges)\n",
    "    \n",
    "    # 随机打乱索引数组，设置种子确保每次运行结果一样\n",
    "    np.random.seed(42)\n",
    "    np.random.shuffle(indices)\n",
    "    \n",
    "    # 计算每个子集的边界\n",
    "    num_train = int(num_edges * train_ratio)\n",
    "    num_val = int(num_edges * val_ratio)\n",
    "    num_test = int(num_edges * test_ratio)\n",
    "    \n",
    "    # 生成掩码\n",
    "    train_mask = np.zeros(num_edges, dtype=bool)\n",
    "    val_mask = np.zeros(num_edges, dtype=bool)\n",
    "    test_mask = np.zeros(num_edges, dtype=bool)\n",
    "    \n",
    "    train_mask[indices[:num_train]] = True\n",
    "    val_mask[indices[num_train:num_train + num_val]] = True\n",
    "    test_mask[indices[num_train + num_val:]] = True\n",
    "    \n",
    "    # 将掩码转换为PyTorch张量\n",
    "    train_mask = torch.tensor(train_mask, dtype=torch.bool)\n",
    "    val_mask = torch.tensor(val_mask, dtype=torch.bool)\n",
    "    test_mask = torch.tensor(test_mask, dtype=torch.bool)\n",
    "    \n",
    "    return train_mask, val_mask, test_mask"
   ]
  },
  {
   "cell_type": "markdown",
   "id": "08058da7",
   "metadata": {},
   "source": [
    "## Construct the DGL Heterogeneous Graph (构建 DGL 异质图)"
   ]
  },
  {
   "cell_type": "code",
   "execution_count": 70,
   "id": "db8cffb6",
   "metadata": {
    "ExecuteTime": {
     "end_time": "2024-10-20T15:57:14.787887Z",
     "start_time": "2024-10-20T15:57:14.724253Z"
    },
    "tags": []
   },
   "outputs": [
    {
     "data": {
      "text/plain": [
       "Graph(num_nodes={'spatial_unit': 2799},\n",
       "      num_edges={('spatial_unit', 'dcorr', 'spatial_unit'): 36764, ('spatial_unit', 'fcorr', 'spatial_unit'): 1073952, ('spatial_unit', 'in_flow', 'spatial_unit'): 6557, ('spatial_unit', 'out_flow', 'spatial_unit'): 6557, ('spatial_unit', 'pcorr', 'spatial_unit'): 36764, ('spatial_unit', 'proximity', 'spatial_unit'): 363674},\n",
       "      metagraph=[('spatial_unit', 'spatial_unit', 'dcorr'), ('spatial_unit', 'spatial_unit', 'fcorr'), ('spatial_unit', 'spatial_unit', 'in_flow'), ('spatial_unit', 'spatial_unit', 'out_flow'), ('spatial_unit', 'spatial_unit', 'pcorr'), ('spatial_unit', 'spatial_unit', 'proximity')])"
      ]
     },
     "execution_count": 70,
     "metadata": {},
     "output_type": "execute_result"
    }
   ],
   "source": [
    "# Generate masks for edges\n",
    "train_mask, val_mask, test_mask = generate_masks(len(out_flow_edges_df))\n",
    "\n",
    "g = dgl.heterograph(graph_data)\n",
    "\n",
    "# Add node features (添加节点特征)\n",
    "feature_matrix = torch.tensor(node[col_feat].values, dtype=torch.float32)\n",
    " # Add lables: delivery and pick_up\n",
    "delivery_tensor = torch.tensor(node['delivery_c'].values, dtype=torch.float32)\n",
    "pick_tensor = torch.tensor(node['pick_count'].values, dtype=torch.float32)\n",
    "\n",
    "g.nodes['spatial_unit'].data['feature'] = feature_matrix\n",
    "g.nodes['spatial_unit'].data['delivery'] = delivery_tensor\n",
    "g.nodes['spatial_unit'].data['pick_up'] = pick_tensor\n",
    "\n",
    "# Standardize edge weights (模块化边权重)\n",
    "from sklearn.preprocessing import StandardScaler\n",
    "scaler = StandardScaler()\n",
    "for edge, df in edge_types.items():\n",
    "    g.edges[edge].data['weight'] = torch.tensor(scaler.fit_transform(df['weight'].values.reshape(-1, 1)).flatten(), dtype=torch.float32)\n",
    "\n",
    "# Add train, validation, and test masks\n",
    "graph = g\n",
    "\n",
    "\n",
    "graph.edges['out_flow'].data['train_mask'], graph.edges['out_flow'].data['validation_mask'], graph.edges['out_flow'].data['test_mask'] = generate_masks(len(out_flow_edges_df))\n",
    "graph.nodes['spatial_unit'].data['train_mask'],graph.nodes['spatial_unit'].data['validation_mask'],graph.nodes['spatial_unit'].data['test_mask'] = generate_masks(len(node))\n",
    "\n",
    "\n",
    "graph"
   ]
  },
  {
   "cell_type": "markdown",
   "id": "12092423",
   "metadata": {},
   "source": [
    "## Graph Update Function (图更新功能)"
   ]
  },
  {
   "cell_type": "code",
   "execution_count": 71,
   "id": "251b5349",
   "metadata": {
    "ExecuteTime": {
     "end_time": "2024-10-20T16:14:33.920413Z",
     "start_time": "2024-10-20T16:14:32.663418Z"
    },
    "tags": []
   },
   "outputs": [],
   "source": [
    "graph.update_all(fn.u_mul_e('feature', 'weight', 'm'), fn.sum('m', 'ft'))\n",
    "graph = graph.to('cuda:0')"
   ]
  },
  {
   "cell_type": "markdown",
   "id": "9be2bfb8",
   "metadata": {},
   "source": [
    "# Define HGCN "
   ]
  },
  {
   "cell_type": "code",
   "execution_count": 72,
   "id": "afd5bb8f",
   "metadata": {
    "tags": []
   },
   "outputs": [],
   "source": [
    "# 节点嵌入模块\n",
    "\n",
    "import torch.nn as nn\n",
    "import torch.nn.functional as F\n",
    "import dgl.nn as dglnn\n",
    "\n",
    "class HeteroGraphConvModel(nn.Module):\n",
    "    def __init__(self, in_feats, hid_feats, out_feats, rel_names):\n",
    "        super(HeteroGraphConvModel, self).__init__()\n",
    "        # 第一层异质图卷积\n",
    "        self.conv1 = dglnn.HeteroGraphConv({\n",
    "            rel: dglnn.GraphConv(in_feats, hid_feats)\n",
    "            for rel in rel_names}, aggregate='sum')\n",
    "        \n",
    "        # 第二层异质图卷积\n",
    "        self.conv2 = dglnn.HeteroGraphConv({\n",
    "            rel: dglnn.GraphConv(hid_feats, out_feats)\n",
    "            for rel in rel_names}, aggregate='sum')\n",
    "\n",
    "    def forward(self, graph, inputs):\n",
    "        \n",
    "        # edge_weights = {rel: graph.edges[rel].data.get('weight', None) for rel in graph.etypes}\n",
    "        # 第一层卷积，传入边权重\n",
    "        h = self.conv1(graph, inputs)\n",
    "        # h = {k: F.sigmoid(v) for k, v in h.items()}\n",
    "        h = {k: F.relu(v) for k, v in h.items()}\n",
    "        # 第二层卷积，传入边权重\n",
    "        h = self.conv2(graph, h)\n",
    "        \n",
    "        return h"
   ]
  },
  {
   "cell_type": "markdown",
   "id": "6f8435d3",
   "metadata": {},
   "source": [
    "## Node Regressio(节点回归)"
   ]
  },
  {
   "cell_type": "code",
   "execution_count": 73,
   "id": "b889b6f7",
   "metadata": {
    "ExecuteTime": {
     "end_time": "2024-10-20T16:12:55.440870Z",
     "start_time": "2024-10-20T16:12:55.429283Z"
    },
    "tags": []
   },
   "outputs": [],
   "source": [
    "class NodeRegressor(nn.Module):\n",
    "    def __init__(self, in_features, hid_feats, out_features, rel_names):\n",
    "        super(NodeRegressor, self).__init__()\n",
    "        self.gnn = HeteroGraphConvModel(in_features, hid_feats, out_features,rel_names)\n",
    "        # 定义一个线性层，将隐藏层特征映射到输出特征（回归值）\n",
    "        self.hidden1 = nn.Linear(out_features, 64)\n",
    "        self.hidden2 = nn.Linear(64, 32)\n",
    "        self.hidden3 = nn.Linear(32, 16)\n",
    "        self.hidden4 = nn.Linear(16, 8)\n",
    "        self.predict = nn.Linear(8, 1)\n",
    "        \n",
    "    def forward(self, g, x):\n",
    "        # h 是从图卷积网络中获得的节点嵌入\n",
    "        # 应用一个线性层进行回归预测\n",
    "        h = self.gnn(g, x)\n",
    "        # print(h['spatial_unit'])\n",
    "        h = h['spatial_unit']\n",
    "        h = F.relu(self.hidden1(h))\n",
    "        h = F.relu(self.hidden2(h))\n",
    "        h = F.relu(self.hidden3(h))\n",
    "        h = F.relu(self.hidden4(h))\n",
    "        output = self.predict(h)\n",
    "        return output[:, 0]  # 假设 h 是一个字典，包含每种节点类型的嵌入"
   ]
  },
  {
   "cell_type": "code",
   "execution_count": 74,
   "id": "35d8997f",
   "metadata": {
    "tags": []
   },
   "outputs": [],
   "source": [
    "# 训练节点预测模型\n",
    "\n",
    "def train_node_prediction(model, graph, node_features, labels, train_mask, test_mask, epochs, patience=10):\n",
    "    \"\"\"\n",
    "    训练节点预测模型的函数。\n",
    "    参数:\n",
    "    - model: HGCN 模型实例\n",
    "    - graph: DGL 图\n",
    "    - node_features: 字典，包含每种节点类型的特征\n",
    "    - labels: 用户节点的标签\n",
    "    - train_mask: 训练集掩码\n",
    "    - test_mask: 测试集掩码\n",
    "    - epochs: 训练周期数\n",
    "    - patience: 提前停止的耐心值\n",
    "    \"\"\"\n",
    "    \n",
    "    optimizer = torch.optim.Adam(model.parameters(), lr=0.001)\n",
    "    loss_fn = nn.MSELoss()\n",
    "    train_losses = []\n",
    "    test_losses = []\n",
    "    best_loss = float('inf')\n",
    "    epochs_no_improve = 0\n",
    "    \n",
    "    for epoch in range(epochs):\n",
    "        model.train()  # 设置模型为训练模式\n",
    "        logits = model(graph, node_features)  # 前向传播\n",
    "        loss = loss_fn(logits[train_mask], labels[train_mask])  # 计算训练损失\n",
    "        \n",
    "        optimizer.zero_grad()  # 清除旧的梯度\n",
    "        loss.backward()  # 反向传播，计算新的梯度\n",
    "        optimizer.step()  # 根据梯度更新模型参数\n",
    "        \n",
    "        train_losses.append(loss.item())\n",
    "        \n",
    "        if epoch % 50 == 0:\n",
    "            model.eval()  # 设置模型为评估模式\n",
    "            with torch.no_grad():\n",
    "                test_logits = model(graph, node_features)\n",
    "                test_loss = loss_fn(test_logits[test_mask], labels[test_mask])  # 计算测试集损失\n",
    "                test_losses.append(test_loss.item())\n",
    "                print(f\"Epoch {epoch}, Training Loss: {loss.item()}, Test MSE: {test_loss.item()}\")\n",
    "\n",
    "                # Check for early stopping\n",
    "                if test_loss < best_loss:\n",
    "                    best_loss = test_loss\n",
    "                    epochs_no_improve = 0\n",
    "                else:\n",
    "                    epochs_no_improve += 1\n",
    "\n",
    "                if epochs_no_improve == patience:\n",
    "                    print(f\"Early stopping triggered after {epoch} epochs.\")\n",
    "                    break\n",
    "            \n",
    "    return train_losses, test_losses"
   ]
  },
  {
   "cell_type": "code",
   "execution_count": 75,
   "id": "2702e269",
   "metadata": {
    "tags": []
   },
   "outputs": [
    {
     "name": "stdout",
     "output_type": "stream",
     "text": [
      "Epoch 0, Training Loss: 10633.0224609375, Test MSE: 13459.3310546875\n",
      "Epoch 50, Training Loss: 7491.9326171875, Test MSE: 8829.4345703125\n",
      "Epoch 100, Training Loss: 5942.38525390625, Test MSE: 7576.44189453125\n",
      "Epoch 150, Training Loss: 5594.61865234375, Test MSE: 7302.16259765625\n",
      "Epoch 200, Training Loss: 5300.31005859375, Test MSE: 6971.392578125\n",
      "Epoch 250, Training Loss: 4949.0263671875, Test MSE: 6625.40869140625\n",
      "Epoch 300, Training Loss: 4595.5712890625, Test MSE: 6424.32421875\n",
      "Epoch 350, Training Loss: 4014.11328125, Test MSE: 6274.86328125\n",
      "Epoch 400, Training Loss: 3531.768310546875, Test MSE: 6318.4169921875\n",
      "Epoch 450, Training Loss: 3211.501708984375, Test MSE: 6514.9833984375\n",
      "Epoch 500, Training Loss: 3036.195556640625, Test MSE: 6489.55908203125\n",
      "Epoch 550, Training Loss: 2710.37060546875, Test MSE: 6535.18994140625\n",
      "Epoch 600, Training Loss: 2539.2841796875, Test MSE: 6719.8046875\n",
      "Epoch 650, Training Loss: 2395.49365234375, Test MSE: 6773.57861328125\n",
      "Epoch 700, Training Loss: 2276.4287109375, Test MSE: 6855.77880859375\n",
      "Epoch 750, Training Loss: 2131.62255859375, Test MSE: 6952.18359375\n",
      "Epoch 800, Training Loss: 2027.486083984375, Test MSE: 6998.2138671875\n",
      "Epoch 850, Training Loss: 1963.660888671875, Test MSE: 6959.86181640625\n",
      "Early stopping triggered after 850 epochs.\n"
     ]
    }
   ],
   "source": [
    "# 节点预测\n",
    "graph = graph.to('cuda:0')\n",
    "\n",
    "unit_feats = graph.nodes['spatial_unit'].data['feature'].to('cuda:0')\n",
    "node_feats = {'spatial_unit': unit_feats}\n",
    "node_labels = graph.ndata['delivery'].to('cuda:0')\n",
    "train_mask = graph.ndata['train_mask'].to('cuda:0')\n",
    "test_mask = graph.ndata['test_mask'].to('cuda:0')\n",
    "n_features = graph.ndata['feature'].shape[1]\n",
    "n_labels = 1\n",
    "\n",
    "model = NodeRegressor(in_features=n_features, hid_feats = 128, out_features=128 ,rel_names=g.etypes).to('cuda:0')\n",
    "\n",
    "train_losses, test_losses = train_node_prediction(model, graph, node_features=node_feats,labels=node_labels, train_mask=train_mask,test_mask=test_mask, epochs=50000,patience=10)"
   ]
  },
  {
   "cell_type": "code",
   "execution_count": 76,
   "id": "d302cdc5",
   "metadata": {
    "tags": []
   },
   "outputs": [
    {
     "data": {
      "image/png": "[encoded data removed]",
      "text/plain": [
       "<Figure size 1000x500 with 1 Axes>"
      ]
     },
     "metadata": {},
     "output_type": "display_data"
    }
   ],
   "source": [
    "# 绘制损失曲线\n",
    "plt.figure(figsize=(10, 5))\n",
    "plt.plot(train_losses, label='Training Loss')\n",
    "plt.plot(range(0, len(train_losses), 50), test_losses, label='Test Loss')\n",
    "plt.title('Training and Test Loss Curve')\n",
    "plt.xlabel('Epochs')\n",
    "plt.ylabel('MSE Loss')\n",
    "plt.legend()\n",
    "plt.grid(True)\n",
    "plt.show()"
   ]
  },
  {
   "cell_type": "markdown",
   "id": "f3742861",
   "metadata": {},
   "source": [
    "## LinkPrediction (链路预测)"
   ]
  },
  {
   "cell_type": "code",
   "execution_count": 77,
   "id": "d437a5b1",
   "metadata": {
    "tags": []
   },
   "outputs": [],
   "source": [
    "class HeteroGraphConvModel(nn.Module):\n",
    "    def __init__(self, in_feats, hid_feats, out_feats, rel_names):\n",
    "        super(HeteroGraphConvModel, self).__init__()\n",
    "        # 第一层异质图卷积\n",
    "        self.conv1 = dglnn.HeteroGraphConv({\n",
    "            rel: dglnn.GraphConv(in_feats, hid_feats)\n",
    "            for rel in rel_names}, aggregate='sum')\n",
    "        \n",
    "        # 第二层异质图卷积\n",
    "        self.conv2 = dglnn.HeteroGraphConv({\n",
    "            rel: dglnn.GraphConv(hid_feats, out_feats)\n",
    "            for rel in rel_names}, aggregate='sum')\n",
    "\n",
    "    def forward(self, graph, inputs):\n",
    "        \n",
    "        # edge_weights = {rel: graph.edges[rel].data.get('weight', None) for rel in graph.etypes}\n",
    "        # 第一层卷积，传入边权重\n",
    "        h = self.conv1(graph, inputs)\n",
    "        # h = {k: F.sigmoid(v) for k, v in h.items()}\n",
    "        h = {k: F.relu(v) for k, v in h.items()}\n",
    "        # 第二层卷积，传入边权重\n",
    "        h = self.conv2(graph, h)\n",
    "        \n",
    "        return h"
   ]
  },
  {
   "cell_type": "markdown",
   "id": "88bb1455",
   "metadata": {},
   "source": [
    "### Space-Constrained Negative Sampling (空间约束的负采样)"
   ]
  },
  {
   "cell_type": "code",
   "execution_count": 84,
   "id": "5d808c6c",
   "metadata": {
    "tags": []
   },
   "outputs": [],
   "source": [
    "proximity_set = set(zip(proximity_edges_df['src_id'], proximity_edges_df['dst_id']))  \n",
    "out_flow_set = set(zip(out_flow_edges_df['src_id'], out_flow_edges_df['dst_id']))  \n",
    "potential_set = proximity_set-out_flow_set\n",
    "potential_edges = torch.tensor(list(potential_set))\n",
    "\n",
    "\n",
    "def construct_negative_graph(graph, etype, k):\n",
    "    utype, _, vtype = etype\n",
    "    src, _ = graph.edges(etype=etype)\n",
    "\n",
    "    # 存储有效的负样本  \n",
    "    mask = torch.zeros(graph.num_nodes(vtype), dtype=torch.bool)\n",
    "    mask[src] = True\n",
    "    valid_neg_samples = potential_edges[mask[potential_edges[:, 0]]]\n",
    "\n",
    "    # 随机打乱并选择前 k 个样本\n",
    "    perm = torch.randperm(valid_neg_samples.size(0))[:len(src) * k]\n",
    "    sampled_neg_samples = valid_neg_samples[perm]\n",
    "\n",
    "    # 分割源和目标节点索引\n",
    "    valid_neg_src = sampled_neg_samples[:, 0].to('cuda:0')\n",
    "    valid_neg_dst = sampled_neg_samples[:, 1].to('cuda:0')\n",
    "\n",
    "    # 创建负样本图\n",
    "    neg_graph = dgl.heterograph({etype: (valid_neg_src, valid_neg_dst)},num_nodes_dict= {ntype: graph.num_nodes(ntype) for ntype in graph.ntypes}).to('cuda:0')\n",
    "    \n",
    "    g.nodes['spatial_unit'].data['feature'] = feature_matrix  \n",
    "    g.nodes['spatial_unit'].data['delivery'] = delivery_tensor \n",
    "    g.nodes['spatial_unit'].data['pick_up'] = pick_tensor  \n",
    "                            \n",
    "    # 为每条边设置权重为0\n",
    "    edge_weights = torch.zeros(len(valid_neg_src)).to('cuda:0')\n",
    "    neg_graph.edata['weight'] = edge_weights  # 添加到图的边数据中\n",
    "\n",
    "    # 创建负样本图\n",
    "    return neg_graph"
   ]
  },
  {
   "cell_type": "markdown",
   "id": "d972ff26",
   "metadata": {},
   "source": [
    "### LinkPredictor"
   ]
  },
  {
   "cell_type": "code",
   "execution_count": 79,
   "id": "79a6b4c3",
   "metadata": {
    "tags": []
   },
   "outputs": [],
   "source": [
    "class LinkPredictor(nn.Module):\n",
    "    def __init__(self, in_features, out_classes):\n",
    "        super().__init__()\n",
    "        # 第一个隐藏层，从2*in_features到32\n",
    "        self.hidden1 = nn.Linear(2 * in_features, 32)\n",
    "        # 添加ReLU激活函数\n",
    "        self.relu = nn.ReLU()\n",
    "        # 第二个隐藏层，从32到16\n",
    "        self.hidden2 = nn.Linear(32, 16)\n",
    "        # 最后的全连接层，从16到1\n",
    "        self.W = nn.Linear(16, out_classes)\n",
    "        \n",
    "    def apply_edges(self, edges):\n",
    "        h_u = edges.src['h']\n",
    "        h_v = edges.dst['h']\n",
    "        # 拼接节点特征\n",
    "        combined_features = torch.cat([h_u, h_v], 1)\n",
    "        # 通过第一个隐藏层并应用ReLU激活函数\n",
    "        x = self.relu(self.hidden1(combined_features))\n",
    "        # 通过第二个隐藏层\n",
    "        x = self.relu(self.hidden2(x))\n",
    "        # 最后通过输出层得到分数\n",
    "        score = self.W(x)\n",
    "        return {'score': score}\n",
    "    \n",
    "\n",
    "    def forward(self, graph, h,etype):\n",
    "        with graph.local_scope():\n",
    "            graph.ndata['h'] = h['spatial_unit']   # Assuming all nodes are of type 'spatial_unit'\n",
    "#             print(f\"graph.ndata['h'].shape = {graph.ndata['h'].shape}\")\n",
    "            graph.apply_edges(self.apply_edges, etype=etype)\n",
    "            return graph.edata['score']\n",
    "\n",
    "    \n",
    "# 整合模型和链路预测\n",
    "class LinkPredModel(nn.Module):\n",
    "    def __init__(self, in_features, hidden_features, out_features, rel_names):\n",
    "        super().__init__()\n",
    "        self.gnn = HeteroGraphConvModel(in_features, hidden_features, out_features, rel_names)\n",
    "        self.link_predictor = LinkPredictor(out_features,1)\n",
    "    def forward(self, g, neg_g, x, etype, sample_etype):\n",
    "        h = self.gnn(g, x)\n",
    "        return self.link_predictor(g, h, etype), self.link_predictor(neg_g, h, etype)\n",
    "    \n",
    "    \n",
    "class LinkPredModel_no_neg(nn.Module):   # 不负采样的版本\n",
    "    def __init__(self, in_features, hidden_features, out_features, rel_names):\n",
    "        super().__init__()\n",
    "        self.gnn = HeteroGraphConvModel(in_features, hidden_features, out_features, rel_names)\n",
    "        self.link_predictor = LinkPredictor(out_features,1)\n",
    "    def forward(self, g, x, etype, sample_etype):\n",
    "        h = self.gnn(g, x)\n",
    "        return self.link_predictor(g, h, etype)"
   ]
  },
  {
   "cell_type": "markdown",
   "id": "bc981b39",
   "metadata": {},
   "source": [
    "### Define Loss"
   ]
  },
  {
   "cell_type": "code",
   "execution_count": 80,
   "id": "669c50cb",
   "metadata": {
    "tags": []
   },
   "outputs": [],
   "source": [
    "# 边预测\n",
    "graph = graph.to('cuda:0')\n",
    "\n",
    "unit_feats = graph.nodes['spatial_unit'].data['feature'].to('cuda:0')\n",
    "edge_labels = graph.edges['out_flow'].data['weight'].to('cuda:0')\n",
    "train_mask = graph.edges['out_flow'].data['train_mask'].to('cuda:0')\n",
    "node_features = {'spatial_unit': graph.nodes['spatial_unit'].data['feature']}\n",
    "\n",
    "def train_edge_prediction(edge_model, graph, features, train_mask ,edge_labels, epochs):\n",
    "    optimizer = torch.optim.Adam(edge_model.parameters(), lr=0.01)\n",
    "    loss_fn = nn.MSELoss()\n",
    "    losses = []\n",
    "    \n",
    "    for epoch in range(epochs):\n",
    "        edge_model.train()\n",
    "        pred = edge_model(graph, features,'out_flow')\n",
    "        pred = pred[('spatial_unit', 'out_flow', 'spatial_unit')] # !!!解决报错mask~tenser\n",
    "        \n",
    "        loss = loss_fn(pred[train_mask], edge_labels[train_mask])\n",
    "        optimizer.zero_grad()\n",
    "        loss.backward()\n",
    "        optimizer.step()\n",
    "        \n",
    "        losses.append(loss.item())\n",
    "        print(f\"Epoch {epoch+1}, Loss: {loss.item()}\")\n",
    "    return losses\n"
   ]
  },
  {
   "cell_type": "markdown",
   "id": "4ff1cad0",
   "metadata": {},
   "source": [
    "### Trainning"
   ]
  },
  {
   "cell_type": "code",
   "execution_count": 81,
   "id": "cf484f19-e0e4-433b-afd8-5cb7b766022f",
   "metadata": {
    "tags": []
   },
   "outputs": [],
   "source": [
    "def calculate_metrics(pos_scores, neg_scores, pos_labels, device='cuda:0'):\n",
    "    # Concatenate scores and true labels\n",
    "    scores = torch.cat((pos_scores, neg_scores))\n",
    "    true_labels = torch.cat((pos_labels, torch.zeros_like(neg_scores)))\n",
    "\n",
    "    # Calculate Mean Squared Error (MSE)\n",
    "    mse = F.mse_loss(scores, true_labels)\n",
    "\n",
    "    # Calculate Mean Absolute Error (MAE)\n",
    "    mae = F.l1_loss(scores, true_labels)\n",
    "\n",
    "    # Calculate Mean Absolute Percentage Error (MAPE)\n",
    "    def mape(y_true, y_pred):\n",
    "        non_zero_mask = y_true != 0\n",
    "        return torch.mean(torch.abs((y_true[non_zero_mask] - y_pred[non_zero_mask]) / y_true[non_zero_mask])) * 100\n",
    "\n",
    "    mape_val = mape(true_labels, scores)\n",
    "\n",
    "    # Calculate Symmetric Mean Absolute Percentage Error (SMAPE)\n",
    "    def smape(y_true, y_pred):\n",
    "        return 100 * 2 * torch.mean(torch.abs(y_pred - y_true) / (torch.abs(y_true) + torch.abs(y_pred)))\n",
    "\n",
    "    smape_val = smape(true_labels, scores)\n",
    "\n",
    "    return mse.item(), mae.item(), mape_val.item(), smape_val.item()\n",
    "\n",
    "def compute_auc(pos_score, neg_score):\n",
    "    scores = torch.cat([pos_score, neg_score]).numpy()\n",
    "    labels = torch.cat(\n",
    "        [torch.ones(pos_score.shape[0]), torch.zeros(neg_score.shape[0])]\n",
    "    ).numpy()\n",
    "    return roc_auc_score(labels, scores)"
   ]
  },
  {
   "cell_type": "code",
   "execution_count": 82,
   "id": "d430c2df",
   "metadata": {
    "tags": []
   },
   "outputs": [],
   "source": [
    "class ComputeLoss(nn.Module):\n",
    "    def __init__(self):\n",
    "        super().__init__()\n",
    "        self.mse_loss = nn.MSELoss()\n",
    "    \n",
    "    def forward(self,  pos_score, neg_score,edge_labels):\n",
    "        # Loss for positive scores: MSE between predicted scores and actual edge weights\n",
    "        pos_loss = self.mse_loss(pos_score, edge_labels)\n",
    "        \n",
    "        # Loss for negative scores: encourage them to be zero\n",
    "        neg_loss = torch.mean(neg_score ** 2)\n",
    "        \n",
    "        # Total loss: combine both losses\n",
    "        return pos_loss + neg_loss\n",
    "    \n",
    "loss_fn = ComputeLoss()"
   ]
  },
  {
   "cell_type": "code",
   "execution_count": 83,
   "id": "e8d3954b",
   "metadata": {
    "tags": []
   },
   "outputs": [
    {
     "name": "stdout",
     "output_type": "stream",
     "text": [
      "Epoch 0, Loss: 428.46075439453125\n",
      "MSE: 205.35763549804688, MAE: 7.784411430358887, MAPE: 99.43145751953125, SMAPE: 198.86947631835938\n",
      "New best MSE observed, resetting patience counter.\n",
      "Epoch 500, Loss: 93.2021255493164\n",
      "MSE: 52.03814697265625, MAE: 4.0876336097717285, MAPE: 43.065067291259766, SMAPE: 121.11231994628906\n",
      "New best MSE observed, resetting patience counter.\n",
      "Epoch 1000, Loss: 57.94618225097656\n",
      "MSE: 48.745018005371094, MAE: 3.7737276554107666, MAPE: 42.123878479003906, SMAPE: 120.86518859863281\n",
      "New best MSE observed, resetting patience counter.\n",
      "Epoch 1500, Loss: 44.79161834716797\n",
      "MSE: 49.18174362182617, MAE: 3.7148821353912354, MAPE: 43.435829162597656, SMAPE: 121.38905334472656\n",
      "No improvement observed. Incrementing patience counter to 1\n",
      "Epoch 2000, Loss: 37.599666595458984\n",
      "MSE: 48.306636810302734, MAE: 3.6598269939422607, MAPE: 42.804359436035156, SMAPE: 122.09561157226562\n",
      "New best MSE observed, resetting patience counter.\n",
      "Epoch 2500, Loss: 32.98474884033203\n",
      "MSE: 49.42258834838867, MAE: 3.6993777751922607, MAPE: 44.327125549316406, SMAPE: 121.77269744873047\n",
      "No improvement observed. Incrementing patience counter to 1\n",
      "Epoch 3000, Loss: 28.81768035888672\n",
      "MSE: 47.17775344848633, MAE: 3.577866554260254, MAPE: 43.183841705322266, SMAPE: 122.50852966308594\n",
      "New best MSE observed, resetting patience counter.\n",
      "Epoch 3500, Loss: 25.678146362304688\n",
      "MSE: 48.70266342163086, MAE: 3.5913143157958984, MAPE: 43.57798767089844, SMAPE: 122.50714111328125\n",
      "No improvement observed. Incrementing patience counter to 1\n",
      "Epoch 4000, Loss: 24.287921905517578\n",
      "MSE: 48.66352844238281, MAE: 3.5706353187561035, MAPE: 43.729610443115234, SMAPE: 122.66580963134766\n",
      "No improvement observed. Incrementing patience counter to 2\n",
      "Epoch 4500, Loss: 23.667617797851562\n",
      "MSE: 48.003475189208984, MAE: 3.518300771713257, MAPE: 42.90277862548828, SMAPE: 123.37500762939453\n",
      "No improvement observed. Incrementing patience counter to 3\n",
      "Epoch 5000, Loss: 21.634231567382812\n",
      "MSE: 48.52290344238281, MAE: 3.5289340019226074, MAPE: 43.43621063232422, SMAPE: 123.23258972167969\n",
      "No improvement observed. Incrementing patience counter to 4\n",
      "Epoch 5500, Loss: 19.559904098510742\n",
      "MSE: 49.4847412109375, MAE: 3.5622332096099854, MAPE: 43.92695617675781, SMAPE: 123.51918029785156\n",
      "No improvement observed. Incrementing patience counter to 5\n",
      "Epoch 6000, Loss: 18.367021560668945\n",
      "MSE: 49.4071044921875, MAE: 3.537400960922241, MAPE: 44.279273986816406, SMAPE: 123.73646545410156\n",
      "No improvement observed. Incrementing patience counter to 6\n",
      "Epoch 6500, Loss: 17.295795440673828\n",
      "MSE: 50.55038833618164, MAE: 3.5915660858154297, MAPE: 45.433624267578125, SMAPE: 123.47290802001953\n",
      "No improvement observed. Incrementing patience counter to 7\n",
      "Epoch 7000, Loss: 16.994388580322266\n",
      "MSE: 48.67057800292969, MAE: 3.530872344970703, MAPE: 44.5427131652832, SMAPE: 124.54827880859375\n",
      "No improvement observed. Incrementing patience counter to 8\n",
      "Epoch 7500, Loss: 15.576454162597656\n",
      "MSE: 49.76799392700195, MAE: 3.5924243927001953, MAPE: 45.81785202026367, SMAPE: 124.0849609375\n",
      "No improvement observed. Incrementing patience counter to 9\n",
      "Epoch 8000, Loss: 15.381982803344727\n",
      "MSE: 49.84526443481445, MAE: 3.6051089763641357, MAPE: 46.16664123535156, SMAPE: 124.16173553466797\n",
      "No improvement observed. Incrementing patience counter to 10\n",
      "Early stopping triggered.\n"
     ]
    }
   ],
   "source": [
    "# edge_labels = graph.edges['out_flow'].data['weight'].to('cuda:0')\n",
    "edge_labels = torch.tensor(Flow_df['weight'].values, dtype=torch.float32).to('cuda:0')\n",
    "\n",
    "in_features = 9\n",
    "unit_feats = graph.nodes['spatial_unit'].data['feature'].to('cuda:0')\n",
    "node_features = {'spatial_unit': unit_feats}\n",
    "\n",
    "train_mask = graph.edges['out_flow'].data['train_mask'].to('cuda:0')\n",
    "test_mask = graph.edges['out_flow'].data['test_mask'].to('cuda:0')\n",
    "\n",
    "n_features = graph.ndata['feature'].shape[1]\n",
    "\n",
    "etype = ('spatial_unit', 'out_flow', 'spatial_unit')\n",
    "sample_etype = ('spatial_unit', 'proximity', 'spatial_unit')\n",
    "\n",
    "model = LinkPredModel(in_features, hidden_features=256, out_features=64, rel_names=graph.etypes)\n",
    "model = model.to('cuda:0')\n",
    "\n",
    "opt = torch.optim.Adam(model.parameters(), lr=0.0005)\n",
    "\n",
    "# 添加早停参数\n",
    "patience = 10  # 你可以根据需要调整这个值\n",
    "patience_counter = 0  # 耐心计数器\n",
    "best_loss = float('inf')  # 初始化最佳损失为无穷大\n",
    "\n",
    "# 保存训练和测试的损失\n",
    "train_losses = []\n",
    "test_losses = []\n",
    "\n",
    "for epoch in range(50000):\n",
    "    model.train()\n",
    "    negative_graph = construct_negative_graph(graph, k=1, etype=etype)\n",
    "    pos_score, neg_score = model(graph, negative_graph, node_features, etype, sample_etype)\n",
    "\n",
    "    loss = loss_fn(pos_score[etype][train_mask][:, 0], neg_score[train_mask][:, 0], edge_labels[train_mask])\n",
    "\n",
    "    opt.zero_grad()\n",
    "    loss.backward()\n",
    "    opt.step()\n",
    "\n",
    "    train_losses.append(loss.item())\n",
    "\n",
    "    if epoch % 500 == 0:\n",
    "        print(f\"Epoch {epoch}, Loss: {loss.item()}\")\n",
    "\n",
    "        model.eval()\n",
    "        pos_score, neg_score = model(graph, negative_graph, node_features, etype, sample_etype)\n",
    "        pos_score_test = pos_score[etype][test_mask][:, 0]\n",
    "        neg_score_test = neg_score[test_mask][:, 0]\n",
    "        edge_labels_test = edge_labels[test_mask]\n",
    "\n",
    "        mse, mae, mape_val, smape_val = calculate_metrics(pos_score_test, neg_score_test, edge_labels_test, device='cuda:0')\n",
    "        print(f\"MSE: {mse}, MAE: {mae}, MAPE: {mape_val}, SMAPE: {smape_val}\")\n",
    "\n",
    "        test_losses.append(mse)\n",
    "\n",
    "        # 更新最佳损失和早停计数器\n",
    "        if mse < best_loss:\n",
    "            best_loss = mse\n",
    "            patience_counter = 0  # 重置耐心计数器\n",
    "            print(\"New best MSE observed, resetting patience counter.\")\n",
    "        else:\n",
    "            patience_counter += 1\n",
    "            print(f\"No improvement observed. Incrementing patience counter to {patience_counter}\")\n",
    "\n",
    "        # 检查是否达到早停条件\n",
    "        if patience_counter >= patience or mse < 20:\n",
    "            print(\"Early stopping triggered.\")\n",
    "            break"
   ]
  },
  {
   "cell_type": "code",
   "execution_count": 85,
   "id": "923f4e27-1dde-417e-b5f1-2476b9689ae2",
   "metadata": {
    "tags": []
   },
   "outputs": [
    {
     "data": {
      "image/png": "[encoded data removed]",
      "text/plain": [
       "<Figure size 1000x500 with 1 Axes>"
      ]
     },
     "metadata": {},
     "output_type": "display_data"
    }
   ],
   "source": [
    "# 绘制训练和测试损失曲线\n",
    "plt.figure(figsize=(10, 5))\n",
    "plt.plot(train_losses, label='Training Loss')\n",
    "plt.plot(range(0, len(train_losses), 500), test_losses, label='Test Loss')\n",
    "plt.title('Training and Test Loss Curve')\n",
    "plt.xlabel('Epochs')\n",
    "plt.ylabel('MSE Loss')\n",
    "plt.legend()\n",
    "plt.grid(True)\n",
    "plt.show()"
   ]
  },
  {
   "cell_type": "code",
   "execution_count": 60,
   "id": "db3e3604-5b35-4dc0-b9ee-e7671d56c58a",
   "metadata": {
    "tags": []
   },
   "outputs": [
    {
     "name": "stdout",
     "output_type": "stream",
     "text": [
      "MSE: 19.525968551635742, MAE: 2.200423240661621, MAPE: 46.26103210449219, SMAPE: 122.88886260986328\n"
     ]
    }
   ],
   "source": [
    "# Calculate metrics for test data\n",
    "with torch.no_grad():\n",
    "    model.eval()\n",
    "    pos_score, neg_score = model(graph, negative_graph, node_features, etype, sample_etype)\n",
    "    pos_score_test = pos_score[etype][test_mask][:,0]\n",
    "    neg_score_test = neg_score[test_mask][:,0]\n",
    "    edge_labels_test = edge_labels[test_mask]\n",
    "    \n",
    "mse, mae, mape_val, smape_val = calculate_metrics(pos_score_test, neg_score_test, edge_labels_test, device='cuda:0')\n",
    "print(f\"MSE: {mse}, MAE: {mae}, MAPE: {mape_val}, SMAPE: {smape_val}\")"
   ]
  },
  {
   "cell_type": "code",
   "execution_count": 61,
   "id": "43575c04-fda1-4b40-bd69-6f5fdfb3b0d8",
   "metadata": {
    "tags": []
   },
   "outputs": [
    {
     "name": "stdout",
     "output_type": "stream",
     "text": [
      "AUC 0.9641650628244216\n"
     ]
    }
   ],
   "source": [
    "\n",
    "\n",
    "\n",
    "\n",
    "with torch.no_grad():\n",
    "    model.eval()\n",
    "    etype = ('spatial_unit', 'out_flow', 'spatial_unit')\n",
    "    # sample_etype = ('spatial_unit', 'promiximity', 'spatial_unit')\n",
    "    sample_etype = ('spatial_unit', 'out_flow', 'spatial_unit')\n",
    "\n",
    "    pos_score, neg_score = model(graph, negative_graph, node_features, etype,sample_etype)\n",
    "    pos_score = pos_score[etype].to('cpu')\n",
    "    neg_score = neg_score.to('cpu')\n",
    "    print(\"AUC\", compute_auc(pos_score, neg_score))"
   ]
  },
  {
   "cell_type": "code",
   "execution_count": null,
   "id": "bd71c7de-3c59-44f3-9351-58c4bc5c000a",
   "metadata": {},
   "outputs": [],
   "source": []
  }
 ],
 "metadata": {
  "kernelspec": {
   "display_name": "Python 3 (ipykernel)",
   "language": "python",
   "name": "python3"
  },
  "language_info": {
   "codemirror_mode": {
    "name": "ipython",
    "version": 3
   },
   "file_extension": ".py",
   "mimetype": "text/x-python",
   "name": "python",
   "nbconvert_exporter": "python",
   "pygments_lexer": "ipython3",
   "version": "3.8.10"
  },
  "toc": {
   "base_numbering": 1,
   "nav_menu": {},
   "number_sections": true,
   "sideBar": true,
   "skip_h1_title": false,
   "title_cell": "Table of Contents",
   "title_sidebar": "Contents",
   "toc_cell": false,
   "toc_position": {},
   "toc_section_display": true,
   "toc_window_display": true
  },
  "varInspector": {
   "cols": {
    "lenName": 16,
    "lenType": 16,
    "lenVar": 40
   },
   "kernels_config": {
    "python": {
     "delete_cmd_postfix": "",
     "delete_cmd_prefix": "del ",
     "library": "var_list.py",
     "varRefreshCmd": "print(var_dic_list())"
    },
    "r": {
     "delete_cmd_postfix": ") ",
     "delete_cmd_prefix": "rm(",
     "library": "var_list.r",
     "varRefreshCmd": "cat(var_dic_list()) "
    }
   },
   "types_to_exclude": [
    "module",
    "function",
    "builtin_function_or_method",
    "instance",
    "_Feature"
   ],
   "window_display": false
  }
 },
 "nbformat": 4,
 "nbformat_minor": 5
}
